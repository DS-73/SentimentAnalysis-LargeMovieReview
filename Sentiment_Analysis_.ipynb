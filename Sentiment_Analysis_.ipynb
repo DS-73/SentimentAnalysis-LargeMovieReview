{
 "cells": [
  {
   "cell_type": "code",
   "execution_count": null,
   "metadata": {
    "id": "zaCv7oyR1xDm"
   },
   "outputs": [],
   "source": [
    "# Libraries \n",
    "\n",
    "import re\n",
    "import numpy as np\n",
    "import pandas as pd\n",
    "import matplotlib.pyplot as plt\n",
    "from sklearn.preprocessing import LabelEncoder\n",
    "from sklearn.metrics import accuracy_score\n",
    "from sklearn.linear_model import LogisticRegression\n",
    "\n",
    "\n",
    "from sklearn.externals import joblib      # For saving model[Dumping] "
   ]
  },
  {
   "cell_type": "code",
   "execution_count": null,
   "metadata": {
    "id": "xFgXxBnp2Fdw"
   },
   "outputs": [],
   "source": []
  },
  {
   "cell_type": "code",
   "execution_count": null,
   "metadata": {
    "colab": {
     "base_uri": "https://localhost:8080/"
    },
    "id": "8XZGkBpZ2G3P",
    "outputId": "94ec22ee-b9ce-47ba-9666-44c7697c8656"
   },
   "outputs": [
    {
     "name": "stdout",
     "output_type": "stream",
     "text": [
      "Drive already mounted at /content/drive/; to attempt to forcibly remount, call drive.mount(\"/content/drive/\", force_remount=True).\n"
     ]
    }
   ],
   "source": [
    "# Mounting Google Drive \n",
    "from google.colab import drive\n",
    "drive.mount('/content/drive/')"
   ]
  },
  {
   "cell_type": "code",
   "execution_count": null,
   "metadata": {
    "id": "LLyWtQdn2G9a"
   },
   "outputs": [],
   "source": [
    "# Loading Dataset\n",
    "\n",
    "# 1. Training Data\n",
    "dataset_train = pd.read_csv('/content/drive/My Drive/Datasets/Large movie review dataset/Train/merged_train.csv')\n",
    "# 2. Testing Data\n",
    "dataset_test = pd.read_csv('/content/drive/My Drive/Datasets/Large movie review dataset/Test/merged_test.csv')"
   ]
  },
  {
   "cell_type": "code",
   "execution_count": null,
   "metadata": {
    "id": "GIBNh6JP2G_6"
   },
   "outputs": [],
   "source": []
  },
  {
   "cell_type": "code",
   "execution_count": null,
   "metadata": {
    "colab": {
     "base_uri": "https://localhost:8080/"
    },
    "id": "00tyDuf_2HCY",
    "outputId": "56c1a38a-fd65-47ab-ffbe-024e53d7bc22"
   },
   "outputs": [
    {
     "name": "stdout",
     "output_type": "stream",
     "text": [
      "                                                 comment sentiment\n",
      "0      story of a man who has unnatural feelings for ...  negative\n",
      "1      airport 77 starts as a brand new luxury 747 pl...  negative\n",
      "2      this film lacked something i couldnt put my fi...  negative\n",
      "3      sorry everyone i know this is supposed to be a...  negative\n",
      "4      when i was little my parents took me along to ...  negative\n",
      "...                                                  ...       ...\n",
      "24995  seeing as the vote average was pretty low and ...  positive\n",
      "24996  the plot had some wretched unbelievable twists...  positive\n",
      "24997  i am amazed at how this movieand most others h...  positive\n",
      "24998  a christmas together actually came before my t...  positive\n",
      "24999  workingclass romantic drama from director mart...  positive\n",
      "\n",
      "[25000 rows x 2 columns]\n"
     ]
    }
   ],
   "source": [
    "print(dataset_train)"
   ]
  },
  {
   "cell_type": "code",
   "execution_count": null,
   "metadata": {
    "colab": {
     "base_uri": "https://localhost:8080/"
    },
    "id": "-0CY8Vcn2HE6",
    "outputId": "fff14c92-5921-4689-9fd5-56ce9fb0af9d"
   },
   "outputs": [
    {
     "name": "stdout",
     "output_type": "stream",
     "text": [
      "                                                 comment sentiment\n",
      "0      once again mr costner has dragged out a movie ...  negative\n",
      "1      this is an example of why the majority of acti...  negative\n",
      "2      first of all i hate those moronic rappers who ...  negative\n",
      "3      not even the beatles could write songs everyon...  negative\n",
      "4      brass pictures movies is not a fitting word fo...  negative\n",
      "...                                                  ...       ...\n",
      "24995  i was extraordinarily impressed by this film i...  positive\n",
      "24996  although im not a golf fan i attended a sneak ...  positive\n",
      "24997  from the start of the edge of love the viewer ...  positive\n",
      "24998  this movie with all its complexity and subtlet...  positive\n",
      "24999  ive seen this story before but my kids havent ...  positive\n",
      "\n",
      "[25000 rows x 2 columns]\n"
     ]
    }
   ],
   "source": [
    "print(dataset_test)"
   ]
  },
  {
   "cell_type": "code",
   "execution_count": null,
   "metadata": {
    "id": "5kV97FFz2hqe"
   },
   "outputs": [],
   "source": []
  },
  {
   "cell_type": "code",
   "execution_count": null,
   "metadata": {
    "colab": {
     "base_uri": "https://localhost:8080/"
    },
    "id": "CYz5ZoO42x7a",
    "outputId": "88ad8d75-ca59-45c4-bd2c-16619e1d4c61"
   },
   "outputs": [
    {
     "name": "stdout",
     "output_type": "stream",
     "text": [
      "--- Training Dataset ---\n",
      "comment      0\n",
      "sentiment    0\n",
      "dtype: int64\n",
      "\n",
      "--- Testing Dataset ---\n",
      "comment      0\n",
      "sentiment    0\n",
      "dtype: int64\n"
     ]
    }
   ],
   "source": [
    "# Checking null values in dataset\n",
    "print('--- Training Dataset ---')\n",
    "print(dataset_train.isnull().sum())\n",
    "print('')\n",
    "\n",
    "print('--- Testing Dataset ---')\n",
    "print(dataset_test.isnull().sum())\n"
   ]
  },
  {
   "cell_type": "code",
   "execution_count": null,
   "metadata": {
    "id": "L_J-7zGR2x-B"
   },
   "outputs": [],
   "source": []
  },
  {
   "cell_type": "markdown",
   "metadata": {
    "id": "E_kfAWqu6npL"
   },
   "source": [
    "# Label Encoding"
   ]
  },
  {
   "cell_type": "code",
   "execution_count": null,
   "metadata": {
    "id": "LUHryJah3DF9"
   },
   "outputs": [],
   "source": [
    "# Label Encoding\n",
    "le = LabelEncoder()\n",
    "\n",
    "dataset_train['sentiment'] = le.fit_transform(dataset_train['sentiment'])\n",
    "dataset_test['sentiment'] = le.fit_transform(dataset_test['sentiment'])"
   ]
  },
  {
   "cell_type": "code",
   "execution_count": null,
   "metadata": {
    "id": "uJ9oQCij3DMz"
   },
   "outputs": [],
   "source": [
    "\n"
   ]
  },
  {
   "cell_type": "markdown",
   "metadata": {
    "id": "7ti8KYji32aw"
   },
   "source": [
    "# Analysing dataset after label encoding\n"
   ]
  },
  {
   "cell_type": "code",
   "execution_count": null,
   "metadata": {
    "colab": {
     "base_uri": "https://localhost:8080/"
    },
    "id": "S9lH9m-D3DSS",
    "outputId": "a2132599-28f7-4c5c-9d25-64ae709d46c2"
   },
   "outputs": [
    {
     "name": "stdout",
     "output_type": "stream",
     "text": [
      "                                                 comment  sentiment\n",
      "0      story of a man who has unnatural feelings for ...          0\n",
      "1      airport 77 starts as a brand new luxury 747 pl...          0\n",
      "2      this film lacked something i couldnt put my fi...          0\n",
      "3      sorry everyone i know this is supposed to be a...          0\n",
      "4      when i was little my parents took me along to ...          0\n",
      "...                                                  ...        ...\n",
      "24995  seeing as the vote average was pretty low and ...          1\n",
      "24996  the plot had some wretched unbelievable twists...          1\n",
      "24997  i am amazed at how this movieand most others h...          1\n",
      "24998  a christmas together actually came before my t...          1\n",
      "24999  workingclass romantic drama from director mart...          1\n",
      "\n",
      "[25000 rows x 2 columns]\n"
     ]
    }
   ],
   "source": [
    "# Positive - 1\n",
    "# Negative - 0\n",
    "print(dataset_train)"
   ]
  },
  {
   "cell_type": "code",
   "execution_count": null,
   "metadata": {
    "colab": {
     "base_uri": "https://localhost:8080/"
    },
    "id": "FHO4Ltgu3DXQ",
    "outputId": "67699ce5-1abc-4c4b-8798-b0220809744c"
   },
   "outputs": [
    {
     "name": "stdout",
     "output_type": "stream",
     "text": [
      "                                                 comment  sentiment\n",
      "0      once again mr costner has dragged out a movie ...          0\n",
      "1      this is an example of why the majority of acti...          0\n",
      "2      first of all i hate those moronic rappers who ...          0\n",
      "3      not even the beatles could write songs everyon...          0\n",
      "4      brass pictures movies is not a fitting word fo...          0\n",
      "...                                                  ...        ...\n",
      "24995  i was extraordinarily impressed by this film i...          1\n",
      "24996  although im not a golf fan i attended a sneak ...          1\n",
      "24997  from the start of the edge of love the viewer ...          1\n",
      "24998  this movie with all its complexity and subtlet...          1\n",
      "24999  ive seen this story before but my kids havent ...          1\n",
      "\n",
      "[25000 rows x 2 columns]\n"
     ]
    }
   ],
   "source": [
    "print(dataset_test)"
   ]
  },
  {
   "cell_type": "code",
   "execution_count": null,
   "metadata": {
    "id": "Qh50chzW3DaY"
   },
   "outputs": [],
   "source": []
  },
  {
   "cell_type": "code",
   "execution_count": null,
   "metadata": {
    "id": "xPynGYYp3DVI"
   },
   "outputs": [],
   "source": [
    "# Seprating dataset into X and Y\n",
    "y = dataset_train['sentiment']\n",
    "x = dataset_train['comment']"
   ]
  },
  {
   "cell_type": "code",
   "execution_count": null,
   "metadata": {
    "id": "qlvk9Iua3DKr"
   },
   "outputs": [],
   "source": [
    "\n"
   ]
  },
  {
   "cell_type": "code",
   "execution_count": null,
   "metadata": {
    "id": "gu3-gYZm3DI6"
   },
   "outputs": [],
   "source": [
    "from sklearn.feature_extraction.text import CountVectorizer\n",
    "cv=CountVectorizer(ngram_range=(1,2))"
   ]
  },
  {
   "cell_type": "code",
   "execution_count": null,
   "metadata": {
    "id": "S1Iu38Fj3DAp"
   },
   "outputs": [],
   "source": []
  },
  {
   "cell_type": "code",
   "execution_count": null,
   "metadata": {
    "id": "7-C4f6j34e9o"
   },
   "outputs": [],
   "source": [
    "x = cv.fit_transform(x)"
   ]
  },
  {
   "cell_type": "code",
   "execution_count": null,
   "metadata": {
    "id": "oIe4FAVg4fE5"
   },
   "outputs": [],
   "source": []
  },
  {
   "cell_type": "code",
   "execution_count": null,
   "metadata": {
    "id": "KQWrBJUj4fJq"
   },
   "outputs": [],
   "source": [
    "LRModel = LogisticRegression()"
   ]
  },
  {
   "cell_type": "code",
   "execution_count": null,
   "metadata": {
    "id": "Rz5Q5U5p4fMe"
   },
   "outputs": [],
   "source": []
  },
  {
   "cell_type": "code",
   "execution_count": null,
   "metadata": {
    "colab": {
     "base_uri": "https://localhost:8080/"
    },
    "id": "AmTSvC-O4fPM",
    "outputId": "95fa663c-e131-4fa3-efea-7f4e0437f447"
   },
   "outputs": [
    {
     "name": "stderr",
     "output_type": "stream",
     "text": [
      "/usr/local/lib/python3.6/dist-packages/sklearn/linear_model/_logistic.py:940: ConvergenceWarning: lbfgs failed to converge (status=1):\n",
      "STOP: TOTAL NO. of ITERATIONS REACHED LIMIT.\n",
      "\n",
      "Increase the number of iterations (max_iter) or scale the data as shown in:\n",
      "    https://scikit-learn.org/stable/modules/preprocessing.html\n",
      "Please also refer to the documentation for alternative solver options:\n",
      "    https://scikit-learn.org/stable/modules/linear_model.html#logistic-regression\n",
      "  extra_warning_msg=_LOGISTIC_SOLVER_CONVERGENCE_MSG)\n"
     ]
    },
    {
     "data": {
      "text/plain": [
       "LogisticRegression(C=1.0, class_weight=None, dual=False, fit_intercept=True,\n",
       "                   intercept_scaling=1, l1_ratio=None, max_iter=100,\n",
       "                   multi_class='auto', n_jobs=None, penalty='l2',\n",
       "                   random_state=None, solver='lbfgs', tol=0.0001, verbose=0,\n",
       "                   warm_start=False)"
      ]
     },
     "execution_count": 97,
     "metadata": {
      "tags": []
     },
     "output_type": "execute_result"
    }
   ],
   "source": [
    "LRModel.fit(x,y)"
   ]
  },
  {
   "cell_type": "code",
   "execution_count": null,
   "metadata": {
    "colab": {
     "base_uri": "https://localhost:8080/"
    },
    "id": "3zQDwO2E4fSd",
    "outputId": "083fc4f4-06cd-4e80-8f96-44576854061a"
   },
   "outputs": [
    {
     "data": {
      "text/plain": [
       "(0        once again mr costner has dragged out a movie ...\n",
       " 1        this is an example of why the majority of acti...\n",
       " 2        first of all i hate those moronic rappers who ...\n",
       " 3        not even the beatles could write songs everyon...\n",
       " 4        brass pictures movies is not a fitting word fo...\n",
       "                                ...                        \n",
       " 24995    i was extraordinarily impressed by this film i...\n",
       " 24996    although im not a golf fan i attended a sneak ...\n",
       " 24997    from the start of the edge of love the viewer ...\n",
       " 24998    this movie with all its complexity and subtlet...\n",
       " 24999    ive seen this story before but my kids havent ...\n",
       " Name: comment, Length: 25000, dtype: object, 0        0\n",
       " 1        0\n",
       " 2        0\n",
       " 3        0\n",
       " 4        0\n",
       "         ..\n",
       " 24995    1\n",
       " 24996    1\n",
       " 24997    1\n",
       " 24998    1\n",
       " 24999    1\n",
       " Name: sentiment, Length: 25000, dtype: int64)"
      ]
     },
     "execution_count": 98,
     "metadata": {
      "tags": []
     },
     "output_type": "execute_result"
    }
   ],
   "source": [
    "X = dataset_test['comment']\n",
    "Y = dataset_test['sentiment']\n",
    "\n",
    "X, Y"
   ]
  },
  {
   "cell_type": "code",
   "execution_count": null,
   "metadata": {
    "id": "jBiR2Uiy4fW6"
   },
   "outputs": [],
   "source": []
  },
  {
   "cell_type": "code",
   "execution_count": null,
   "metadata": {
    "id": "3J_Ys_7o4fb8"
   },
   "outputs": [],
   "source": [
    "pred_y = LRModel.predict(cv.transform(X))"
   ]
  },
  {
   "cell_type": "code",
   "execution_count": null,
   "metadata": {
    "id": "03EnaJbz4fal"
   },
   "outputs": [],
   "source": [
    "score = accuracy_score(Y,pred_y)"
   ]
  },
  {
   "cell_type": "code",
   "execution_count": null,
   "metadata": {
    "colab": {
     "base_uri": "https://localhost:8080/"
    },
    "id": "bLXfy91M4fID",
    "outputId": "14cc6351-f668-4a98-80b5-fe075800b80c"
   },
   "outputs": [
    {
     "data": {
      "text/plain": [
       "0.89676"
      ]
     },
     "execution_count": 101,
     "metadata": {
      "tags": []
     },
     "output_type": "execute_result"
    }
   ],
   "source": [
    "score"
   ]
  },
  {
   "cell_type": "code",
   "execution_count": null,
   "metadata": {
    "id": "eNDrGcZk4fDW"
   },
   "outputs": [],
   "source": []
  },
  {
   "cell_type": "code",
   "execution_count": null,
   "metadata": {
    "colab": {
     "base_uri": "https://localhost:8080/"
    },
    "id": "rUcB0gMp49VV",
    "outputId": "124903cd-f856-4af4-9de3-96a2408be8c0"
   },
   "outputs": [
    {
     "data": {
      "text/plain": [
       "['/content/drive/My Drive/Datasets/SentimentAnalysisModel.ds1']"
      ]
     },
     "execution_count": 102,
     "metadata": {
      "tags": []
     },
     "output_type": "execute_result"
    }
   ],
   "source": [
    "joblib.dump(LRModel , '/content/drive/My Drive/Datasets/SentimentAnalysisModel.ds1')"
   ]
  },
  {
   "cell_type": "code",
   "execution_count": null,
   "metadata": {
    "id": "UCsLZ1_R49Yk"
   },
   "outputs": [],
   "source": []
  },
  {
   "cell_type": "code",
   "execution_count": null,
   "metadata": {
    "id": "JqcWtxl049lo"
   },
   "outputs": [],
   "source": []
  }
 ],
 "metadata": {
  "colab": {
   "collapsed_sections": [],
   "name": "Sentiment Analysis .ipynb",
   "provenance": []
  },
  "kernelspec": {
   "display_name": "Python 3",
   "language": "python",
   "name": "python3"
  },
  "language_info": {
   "codemirror_mode": {
    "name": "ipython",
    "version": 3
   },
   "file_extension": ".py",
   "mimetype": "text/x-python",
   "name": "python",
   "nbconvert_exporter": "python",
   "pygments_lexer": "ipython3",
   "version": "3.7.6"
  }
 },
 "nbformat": 4,
 "nbformat_minor": 1
}
